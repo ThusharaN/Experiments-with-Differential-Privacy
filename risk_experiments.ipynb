{
 "cells": [
  {
   "cell_type": "code",
   "execution_count": 9,
   "metadata": {},
   "outputs": [],
   "source": [
    "import numpy as np\n",
    "import pandas as pd\n",
    "import category_encoders as ce"
   ]
  },
  {
   "cell_type": "code",
   "execution_count": 10,
   "metadata": {},
   "outputs": [],
   "source": [
    "data = pd.read_csv('./adult_with_pii.csv')\n",
    "encoder = ce.OrdinalEncoder(cols=['Target'], return_df=True, mapping=[{'col':'Target',\n",
    "                                                                       'mapping':{'<=50K':0, '>50K':1}}])\n",
    "data = encoder.fit_transform(data)\n",
    "data.dropna(axis=0, how='any', inplace=True)"
   ]
  },
  {
   "cell_type": "code",
   "execution_count": 11,
   "metadata": {},
   "outputs": [],
   "source": [
    "data = data[['Workclass', 'Education', 'Marital Status', 'Occupation', 'Relationship', 'Race', 'Sex', 'Country', 'Target']]\n",
    "key = data[['Workclass', 'Education', 'Marital Status', 'Occupation', 'Relationship', 'Race', 'Sex', 'Country']]\n",
    "income= data[['Target']]"
   ]
  },
  {
   "cell_type": "code",
   "execution_count": 12,
   "metadata": {},
   "outputs": [
    {
     "data": {
      "text/html": [
       "<div>\n",
       "<style scoped>\n",
       "    .dataframe tbody tr th:only-of-type {\n",
       "        vertical-align: middle;\n",
       "    }\n",
       "\n",
       "    .dataframe tbody tr th {\n",
       "        vertical-align: top;\n",
       "    }\n",
       "\n",
       "    .dataframe thead th {\n",
       "        text-align: right;\n",
       "    }\n",
       "</style>\n",
       "<table border=\"1\" class=\"dataframe\">\n",
       "  <thead>\n",
       "    <tr style=\"text-align: right;\">\n",
       "      <th></th>\n",
       "      <th>Workclass</th>\n",
       "      <th>Education</th>\n",
       "      <th>Marital Status</th>\n",
       "      <th>Occupation</th>\n",
       "      <th>Relationship</th>\n",
       "      <th>Race</th>\n",
       "      <th>Sex</th>\n",
       "      <th>Country</th>\n",
       "      <th>Target</th>\n",
       "    </tr>\n",
       "  </thead>\n",
       "  <tbody>\n",
       "    <tr>\n",
       "      <th>0</th>\n",
       "      <td>State-gov</td>\n",
       "      <td>Bachelors</td>\n",
       "      <td>Never-married</td>\n",
       "      <td>Adm-clerical</td>\n",
       "      <td>Not-in-family</td>\n",
       "      <td>White</td>\n",
       "      <td>Male</td>\n",
       "      <td>United-States</td>\n",
       "      <td>0</td>\n",
       "    </tr>\n",
       "    <tr>\n",
       "      <th>1</th>\n",
       "      <td>Self-emp-not-inc</td>\n",
       "      <td>Bachelors</td>\n",
       "      <td>Married-civ-spouse</td>\n",
       "      <td>Exec-managerial</td>\n",
       "      <td>Husband</td>\n",
       "      <td>White</td>\n",
       "      <td>Male</td>\n",
       "      <td>United-States</td>\n",
       "      <td>0</td>\n",
       "    </tr>\n",
       "    <tr>\n",
       "      <th>2</th>\n",
       "      <td>Private</td>\n",
       "      <td>HS-grad</td>\n",
       "      <td>Divorced</td>\n",
       "      <td>Handlers-cleaners</td>\n",
       "      <td>Not-in-family</td>\n",
       "      <td>White</td>\n",
       "      <td>Male</td>\n",
       "      <td>United-States</td>\n",
       "      <td>0</td>\n",
       "    </tr>\n",
       "    <tr>\n",
       "      <th>5</th>\n",
       "      <td>Private</td>\n",
       "      <td>Masters</td>\n",
       "      <td>Married-civ-spouse</td>\n",
       "      <td>Exec-managerial</td>\n",
       "      <td>Wife</td>\n",
       "      <td>White</td>\n",
       "      <td>Female</td>\n",
       "      <td>United-States</td>\n",
       "      <td>0</td>\n",
       "    </tr>\n",
       "    <tr>\n",
       "      <th>7</th>\n",
       "      <td>Self-emp-not-inc</td>\n",
       "      <td>HS-grad</td>\n",
       "      <td>Married-civ-spouse</td>\n",
       "      <td>Exec-managerial</td>\n",
       "      <td>Husband</td>\n",
       "      <td>White</td>\n",
       "      <td>Male</td>\n",
       "      <td>United-States</td>\n",
       "      <td>1</td>\n",
       "    </tr>\n",
       "    <tr>\n",
       "      <th>...</th>\n",
       "      <td>...</td>\n",
       "      <td>...</td>\n",
       "      <td>...</td>\n",
       "      <td>...</td>\n",
       "      <td>...</td>\n",
       "      <td>...</td>\n",
       "      <td>...</td>\n",
       "      <td>...</td>\n",
       "      <td>...</td>\n",
       "    </tr>\n",
       "    <tr>\n",
       "      <th>32556</th>\n",
       "      <td>Private</td>\n",
       "      <td>Assoc-acdm</td>\n",
       "      <td>Married-civ-spouse</td>\n",
       "      <td>Tech-support</td>\n",
       "      <td>Wife</td>\n",
       "      <td>White</td>\n",
       "      <td>Female</td>\n",
       "      <td>United-States</td>\n",
       "      <td>0</td>\n",
       "    </tr>\n",
       "    <tr>\n",
       "      <th>32557</th>\n",
       "      <td>Private</td>\n",
       "      <td>HS-grad</td>\n",
       "      <td>Married-civ-spouse</td>\n",
       "      <td>Machine-op-inspct</td>\n",
       "      <td>Husband</td>\n",
       "      <td>White</td>\n",
       "      <td>Male</td>\n",
       "      <td>United-States</td>\n",
       "      <td>1</td>\n",
       "    </tr>\n",
       "    <tr>\n",
       "      <th>32558</th>\n",
       "      <td>Private</td>\n",
       "      <td>HS-grad</td>\n",
       "      <td>Widowed</td>\n",
       "      <td>Adm-clerical</td>\n",
       "      <td>Unmarried</td>\n",
       "      <td>White</td>\n",
       "      <td>Female</td>\n",
       "      <td>United-States</td>\n",
       "      <td>0</td>\n",
       "    </tr>\n",
       "    <tr>\n",
       "      <th>32559</th>\n",
       "      <td>Private</td>\n",
       "      <td>HS-grad</td>\n",
       "      <td>Never-married</td>\n",
       "      <td>Adm-clerical</td>\n",
       "      <td>Own-child</td>\n",
       "      <td>White</td>\n",
       "      <td>Male</td>\n",
       "      <td>United-States</td>\n",
       "      <td>0</td>\n",
       "    </tr>\n",
       "    <tr>\n",
       "      <th>32560</th>\n",
       "      <td>Self-emp-inc</td>\n",
       "      <td>HS-grad</td>\n",
       "      <td>Married-civ-spouse</td>\n",
       "      <td>Exec-managerial</td>\n",
       "      <td>Wife</td>\n",
       "      <td>White</td>\n",
       "      <td>Female</td>\n",
       "      <td>United-States</td>\n",
       "      <td>1</td>\n",
       "    </tr>\n",
       "  </tbody>\n",
       "</table>\n",
       "<p>24285 rows × 9 columns</p>\n",
       "</div>"
      ],
      "text/plain": [
       "              Workclass   Education      Marital Status         Occupation  \\\n",
       "0             State-gov   Bachelors       Never-married       Adm-clerical   \n",
       "1      Self-emp-not-inc   Bachelors  Married-civ-spouse    Exec-managerial   \n",
       "2               Private     HS-grad            Divorced  Handlers-cleaners   \n",
       "5               Private     Masters  Married-civ-spouse    Exec-managerial   \n",
       "7      Self-emp-not-inc     HS-grad  Married-civ-spouse    Exec-managerial   \n",
       "...                 ...         ...                 ...                ...   \n",
       "32556           Private  Assoc-acdm  Married-civ-spouse       Tech-support   \n",
       "32557           Private     HS-grad  Married-civ-spouse  Machine-op-inspct   \n",
       "32558           Private     HS-grad             Widowed       Adm-clerical   \n",
       "32559           Private     HS-grad       Never-married       Adm-clerical   \n",
       "32560      Self-emp-inc     HS-grad  Married-civ-spouse    Exec-managerial   \n",
       "\n",
       "        Relationship   Race     Sex        Country  Target  \n",
       "0      Not-in-family  White    Male  United-States       0  \n",
       "1            Husband  White    Male  United-States       0  \n",
       "2      Not-in-family  White    Male  United-States       0  \n",
       "5               Wife  White  Female  United-States       0  \n",
       "7            Husband  White    Male  United-States       1  \n",
       "...              ...    ...     ...            ...     ...  \n",
       "32556           Wife  White  Female  United-States       0  \n",
       "32557        Husband  White    Male  United-States       1  \n",
       "32558      Unmarried  White  Female  United-States       0  \n",
       "32559      Own-child  White    Male  United-States       0  \n",
       "32560           Wife  White  Female  United-States       1  \n",
       "\n",
       "[24285 rows x 9 columns]"
      ]
     },
     "execution_count": 12,
     "metadata": {},
     "output_type": "execute_result"
    }
   ],
   "source": [
    "# Check for duplicates based on categorical columns\n",
    "data[data.duplicated(keep=False)]"
   ]
  },
  {
   "attachments": {},
   "cell_type": "markdown",
   "metadata": {},
   "source": [
    "Step one: Calculating the risk ceiling. "
   ]
  },
  {
   "cell_type": "code",
   "execution_count": 13,
   "metadata": {},
   "outputs": [],
   "source": [
    "# Create an empty list to store the residuals\n",
    "residuals = []\n",
    "\n",
    "for index, row in data.iterrows():\n",
    "    # Filter data to find all matching rows\n",
    "    match = data[(data['Workclass'] == row['Workclass']) &\n",
    "                (data['Education'] == row['Education']) &\n",
    "                (data['Marital Status'] == row['Marital Status']) &\n",
    "                (data['Occupation'] == row['Occupation']) &\n",
    "                (data['Relationship'] == row['Relationship']) &\n",
    "                (data['Race'] == row['Race']) &\n",
    "                (data['Sex'] == row['Sex']) &\n",
    "                (data['Country'] == row['Country'])]\n",
    "\n",
    "    # Calculate the mean salary of the matching rows\n",
    "    mean_salary = match['Target'].mean()\n",
    "\n",
    "    # Calculate the residual\n",
    "    residual = abs(row['Target'] - mean_salary)\n",
    "    residuals.append(residual)\n",
    "\n",
    "# Calculating the risk ceiling\n",
    "RC = sum(residuals) / len(residuals)"
   ]
  },
  {
   "cell_type": "code",
   "execution_count": 14,
   "metadata": {},
   "outputs": [
    {
     "data": {
      "text/plain": [
       "0.18552419666058004"
      ]
     },
     "execution_count": 14,
     "metadata": {},
     "output_type": "execute_result"
    }
   ],
   "source": [
    "RC"
   ]
  },
  {
   "attachments": {},
   "cell_type": "markdown",
   "metadata": {},
   "source": [
    "Step two: Calculating the risk floor."
   ]
  },
  {
   "cell_type": "code",
   "execution_count": 15,
   "metadata": {},
   "outputs": [],
   "source": [
    "residuals = []\n",
    "\n",
    "# Calculate the overall mean\n",
    "overal_mean = data['Target'].mean()\n",
    "\n",
    "for index, row in data.iterrows():\n",
    "    residual = abs(row['Target'] - overal_mean)\n",
    "    residuals.append(residual)\n",
    "\n",
    "RF = sum(residuals) / len(residuals)"
   ]
  },
  {
   "cell_type": "code",
   "execution_count": 16,
   "metadata": {},
   "outputs": [
    {
     "data": {
      "text/plain": [
       "0.37392016317027593"
      ]
     },
     "execution_count": 16,
     "metadata": {},
     "output_type": "execute_result"
    }
   ],
   "source": [
    "RF"
   ]
  },
  {
   "attachments": {},
   "cell_type": "markdown",
   "metadata": {},
   "source": [
    "Step three: Calculating the risk of the treated data."
   ]
  },
  {
   "cell_type": "code",
   "execution_count": 17,
   "metadata": {},
   "outputs": [],
   "source": [
    "# Scoring function to calculate the score for each unique value in a column.\n",
    "# Returns 1 if the value is equal to the original value, otherwise returns 0.\n",
    "def scoring_function(value, original_value):\n",
    "    return 1 if value == original_value else 0\n",
    "\n",
    "# Exponential mechanism function that takes data, original_value, privacy parameter epsilon, and sensitivity.\n",
    "# It calculates the scores for each value in the data using the scoring function, and then calculates the probabilities.\n",
    "# Finally, it returns a treated value based on the probabilities.\n",
    "def exponential_mechanism(data, original_value, epsilon, sensitivity):\n",
    "    scores = np.array([scoring_function(value, original_value) for value in data])\n",
    "    probabilities = np.exp(epsilon * scores / (2 * sensitivity))\n",
    "    probabilities /= probabilities.sum()\n",
    "    return np.random.choice(data, p=probabilities)\n",
    "\n",
    "# Main function to generate treated data using the exponential mechanism.\n",
    "# This function iterates through each column and row in the DataFrame,\n",
    "# applies the exponential mechanism, and updates the treated_data DataFrame with the treated values.\n",
    "def generate_treated_data(df, epsilon):\n",
    "    treated_data = df.copy()\n",
    "    df = df.reset_index(drop=True)  # Reset the index of the original DataFrame\n",
    "    treated_data = treated_data.reset_index(drop=True)  # Reset the index of the treated DataFrame\n",
    "\n",
    "    # Iterate through each column in the DataFrame\n",
    "    for col in df.columns.astype(str):\n",
    "        unique_values = df[col].unique()  # Get unique values in the column\n",
    "        sensitivity = len(unique_values) - 1  # Calculate the sensitivity for the column\n",
    "\n",
    "        # Iterate through each row in the DataFrame\n",
    "        for i in range(len(df)):\n",
    "            original_value = df.at[i, col]  # Get the original value in the cell\n",
    "            # Update the treated_data DataFrame with the treated value using the exponential mechanism\n",
    "            treated_data.at[i, col] = exponential_mechanism(unique_values, original_value, epsilon, sensitivity)\n",
    "\n",
    "    return treated_data"
   ]
  },
  {
   "cell_type": "code",
   "execution_count": 19,
   "metadata": {},
   "outputs": [],
   "source": [
    "def treated_data_risk_2(data, treated_data):\n",
    "    # Assume treated_df is the treated dataset and orig_df is the original dataset\n",
    "\n",
    "    # Calculate the overall mean income of the original dataset\n",
    "    overall_mean_income = treated_data['Target'].mean()\n",
    "\n",
    "    # Create a dictionary to store the predicted income values for each record in the treated dataset\n",
    "    predicted_income = {}\n",
    "\n",
    "    # Match each record in the treated dataset with the original dataset using all categorical variables\n",
    "    for i, row in data.iterrows():\n",
    "        match_rows = treated_data[(treated_data['Workclass'] == row['Workclass']) & \n",
    "                        (treated_data['Education'] == row['Education']) & \n",
    "                        (treated_data['Marital Status'] == row['Marital Status']) &\n",
    "                        (treated_data['Occupation'] == row['Occupation']) &\n",
    "                        (treated_data['Relationship'] == row['Relationship']) &\n",
    "                        (treated_data['Race'] == row['Race']) &\n",
    "                        (treated_data['Sex'] == row['Sex']) &\n",
    "                        (treated_data['Country'] == row['Country'])]\n",
    "        \n",
    "        # If there are no matches, impute the overall mean as the predicted value\n",
    "        if len(match_rows) == 0:\n",
    "            predicted_income[i] = overall_mean_income\n",
    "        else:\n",
    "            # Calculate the mean income of the matching rows\n",
    "            predicted_income[i] = match_rows['Target'].mean()\n",
    "\n",
    "    residuals = []\n",
    "    for i, row in data.iterrows():\n",
    "        residual = abs(predicted_income[i] - row['Target'])\n",
    "        residuals.append(residual)\n",
    "\n",
    "    RT = sum(residuals) / len(residuals)\n",
    "    return RT"
   ]
  },
  {
   "cell_type": "code",
   "execution_count": 20,
   "metadata": {},
   "outputs": [],
   "source": [
    "def ROC_utility(data, treated_data):\n",
    "    var_rocs =[]\n",
    "\n",
    "    for column in ['Workclass', 'Education', 'Marital Status', 'Occupation', 'Relationship', 'Race', 'Sex', 'Country']:\n",
    "        # calculate frequency table\n",
    "        orig_counts = data[column].value_counts()\n",
    "        synth_counts = treated_data[column].value_counts()\n",
    "        \n",
    "        roc_df = pd.DataFrame({'yorig': orig_counts, 'ysynth': synth_counts}).fillna(0)\n",
    "\n",
    "        # calculate ROC for each category\n",
    "        roc_df['ROC'] = np.minimum(roc_df['yorig'], roc_df['ysynth']) / np.maximum(roc_df['yorig'], roc_df['ysynth'])\n",
    "        \n",
    "        # calculate the average ROC for the variable\n",
    "        var_roc = roc_df['ROC'].mean()\n",
    "        var_rocs.append(var_roc)\n",
    "        #print(f\"{column}: {var_roc}\")\n",
    "        # print(roc_df)\n",
    "\n",
    "    return sum(var_rocs)/len(var_rocs)"
   ]
  },
  {
   "cell_type": "code",
   "execution_count": 21,
   "metadata": {},
   "outputs": [
    {
     "name": "stdout",
     "output_type": "stream",
     "text": [
      "epsilon: 0.01\n",
      "RTs: [0.5006316728470074]\n",
      "thetas: [1.6725807989642398]\n",
      "thetas_m: [-0.67258079896424]\n",
      "epsilon: 0.1\n",
      "RTs: [0.5006316728470074, 0.4992309262008425]\n",
      "thetas: [1.6725807989642398, 1.6651456788174783]\n",
      "thetas_m: [-0.67258079896424, -0.6651456788174781]\n",
      "epsilon: 1\n",
      "RTs: [0.5006316728470074, 0.4992309262008425, 0.4701578036962124]\n",
      "thetas: [1.6725807989642398, 1.6651456788174783, 1.5108264381073335]\n",
      "thetas_m: [-0.67258079896424, -0.6651456788174781, -0.5108264381073336]\n",
      "epsilon: 10\n",
      "RTs: [0.5006316728470074, 0.4992309262008425, 0.4701578036962124, 0.37510576630647746]\n",
      "thetas: [1.6725807989642398, 1.6651456788174783, 1.5108264381073335, 1.006293145008179]\n",
      "thetas_m: [-0.67258079896424, -0.6651456788174781, -0.5108264381073336, -0.006293145008178887]\n",
      "epsilon: 25\n",
      "RTs: [0.5006316728470074, 0.4992309262008425, 0.4701578036962124, 0.37510576630647746, 0.3603708772223492]\n",
      "thetas: [1.6725807989642398, 1.6651456788174783, 1.5108264381073335, 1.006293145008179, 0.9280808066173252]\n",
      "thetas_m: [-0.67258079896424, -0.6651456788174781, -0.5108264381073336, -0.006293145008178887, 0.07191919338267488]\n",
      "epsilon: 50\n",
      "RTs: [0.5006316728470074, 0.4992309262008425, 0.4701578036962124, 0.37510576630647746, 0.3603708772223492, 0.3448488967875333]\n",
      "thetas: [1.6725807989642398, 1.6651456788174783, 1.5108264381073335, 1.006293145008179, 0.9280808066173252, 0.8456906115277872]\n",
      "thetas_m: [-0.67258079896424, -0.6651456788174781, -0.5108264381073336, -0.006293145008178887, 0.07191919338267488, 0.1543093884722128]\n",
      "epsilon: 70\n",
      "RTs: [0.5006316728470074, 0.4992309262008425, 0.4701578036962124, 0.37510576630647746, 0.3603708772223492, 0.3448488967875333, 0.32388732062111014]\n",
      "thetas: [1.6725807989642398, 1.6651456788174783, 1.5108264381073335, 1.006293145008179, 0.9280808066173252, 0.8456906115277872, 0.7344272094774873]\n",
      "thetas_m: [-0.67258079896424, -0.6651456788174781, -0.5108264381073336, -0.006293145008178887, 0.07191919338267488, 0.1543093884722128, 0.2655727905225127]\n",
      "epsilon: 100\n",
      "RTs: [0.5006316728470074, 0.4992309262008425, 0.4701578036962124, 0.37510576630647746, 0.3603708772223492, 0.3448488967875333, 0.32388732062111014, 0.2886685102946009]\n",
      "thetas: [1.6725807989642398, 1.6651456788174783, 1.5108264381073335, 1.006293145008179, 0.9280808066173252, 0.8456906115277872, 0.7344272094774873, 0.5474868466927209]\n",
      "thetas_m: [-0.67258079896424, -0.6651456788174781, -0.5108264381073336, -0.006293145008178887, 0.07191919338267488, 0.1543093884722128, 0.2655727905225127, 0.45251315330727915]\n",
      "epsilon: 200\n",
      "RTs: [0.5006316728470074, 0.4992309262008425, 0.4701578036962124, 0.37510576630647746, 0.3603708772223492, 0.3448488967875333, 0.32388732062111014, 0.2886685102946009, 0.2494371247720566]\n",
      "thetas: [1.6725807989642398, 1.6651456788174783, 1.5108264381073335, 1.006293145008179, 0.9280808066173252, 0.8456906115277872, 0.7344272094774873, 0.5474868466927209, 0.33924785809141644]\n",
      "thetas_m: [-0.67258079896424, -0.6651456788174781, -0.5108264381073336, -0.006293145008178887, 0.07191919338267488, 0.1543093884722128, 0.2655727905225127, 0.45251315330727915, 0.6607521419085836]\n",
      "epsilon: 500\n",
      "RTs: [0.5006316728470074, 0.4992309262008425, 0.4701578036962124, 0.37510576630647746, 0.3603708772223492, 0.3448488967875333, 0.32388732062111014, 0.2886685102946009, 0.2494371247720566, 0.19020121988250074]\n",
      "thetas: [1.6725807989642398, 1.6651456788174783, 1.5108264381073335, 1.006293145008179, 0.9280808066173252, 0.8456906115277872, 0.7344272094774873, 0.5474868466927209, 0.33924785809141644, 0.024825495516540164]\n",
      "thetas_m: [-0.67258079896424, -0.6651456788174781, -0.5108264381073336, -0.006293145008178887, 0.07191919338267488, 0.1543093884722128, 0.2655727905225127, 0.45251315330727915, 0.6607521419085836, 0.9751745044834599]\n"
     ]
    }
   ],
   "source": [
    "epsilons = [0.01, 0.1, 1, 5, 10, 25, 50, 70, 100, 200, 500]\n",
    "RTs = []\n",
    "thetas = []\n",
    "thetas_m = []\n",
    "\n",
    "ROCs = []\n",
    "\n",
    "for epsilon in epsilons:\n",
    "    print(\"epsilon:\", epsilon)\n",
    "    treated_data = generate_treated_data(data, epsilon)\n",
    "    RT = treated_data_risk_2(data, treated_data)\n",
    "    RTs.append(RT)\n",
    "    print(\"RTs:\", RTs)\n",
    "\n",
    "    theta = (RT - RC) / (RF - RC)\n",
    "    theta_m = (RT - RF) / (RC - RF)\n",
    "    thetas.append(theta)\n",
    "    thetas_m.append(theta_m)\n",
    "    print(\"thetas:\", thetas)\n",
    "    print(\"thetas_m:\", thetas_m)\n",
    "\n",
    "    ROC = ROC_utility(data, treated_data)\n",
    "    ROCs.append(ROC)"
   ]
  },
  {
   "cell_type": "code",
   "execution_count": 36,
   "metadata": {},
   "outputs": [
    {
     "name": "stdout",
     "output_type": "stream",
     "text": [
      "RT: [0.5006316728470074, 0.4992309262008425, 0.4701578036962124, 0.37510576630647746, 0.3603708772223492, 0.3448488967875333, 0.32388732062111014, 0.2886685102946009, 0.2494371247720566, 0.19020121988250074]\n",
      "theta: [1.6725808  1.66514568 1.51082644 1.00629315 0.92808081 0.84569061\n",
      " 0.73442721 0.54748685 0.33924786 0.0248255 ]\n",
      "Utility: [0.36586443 0.36552259 0.37519863 0.43405773 0.51435851 0.66965903\n",
      " 0.73105056 0.79613305 0.87276815 0.93467244]\n"
     ]
    }
   ],
   "source": [
    "print(\"RT:\", RTs)\n",
    "print(\"theta:\", thetas)\n",
    "print(\"Utility:\", ROCs)"
   ]
  },
  {
   "attachments": {},
   "cell_type": "markdown",
   "metadata": {},
   "source": [
    "Plot Risk-Utility map"
   ]
  },
  {
   "cell_type": "code",
   "execution_count": 50,
   "metadata": {},
   "outputs": [
    {
     "data": {
      "image/png": "[encoded data removed]",
      "text/plain": [
       "<Figure size 640x480 with 1 Axes>"
      ]
     },
     "metadata": {},
     "output_type": "display_data"
    }
   ],
   "source": [
    "import matplotlib.pyplot as plt\n",
    "\n",
    "# Plot scatter plot\n",
    "plt.scatter(thetas_m, ROCs, c='r')\n",
    "\n",
    "\n",
    "# Add epsilon values on each point\n",
    "for i, txt in enumerate(epsilons):\n",
    "    plt.annotate(r'$\\epsilon$'+ \"=\" + str(txt), (thetas_m[i], ROCs[i]))\n",
    "\n",
    "\n",
    "# Set plot title and axis labels\n",
    "plt.title(\"Utility vs. Risk with Epsilon Values\")\n",
    "plt.xlabel(\"Risk\")\n",
    "plt.ylabel(\"Utility\")\n",
    "\n",
    "# Display plot\n",
    "plt.show()\n"
   ]
  }
 ],
 "metadata": {
  "kernelspec": {
   "display_name": "Python 3 (ipykernel)",
   "language": "python",
   "name": "python3"
  },
  "language_info": {
   "codemirror_mode": {
    "name": "ipython",
    "version": 3
   },
   "file_extension": ".py",
   "mimetype": "text/x-python",
   "name": "python",
   "nbconvert_exporter": "python",
   "pygments_lexer": "ipython3",
   "version": "3.10.11"
  }
 },
 "nbformat": 4,
 "nbformat_minor": 2
}
