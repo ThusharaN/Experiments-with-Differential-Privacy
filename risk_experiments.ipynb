{
 "cells": [
  {
   "cell_type": "code",
   "execution_count": 2,
   "metadata": {},
   "outputs": [],
   "source": [
    "import numpy as np\n",
    "import pandas as pd\n",
    "import category_encoders as ce"
   ]
  },
  {
   "cell_type": "code",
   "execution_count": 3,
   "metadata": {},
   "outputs": [],
   "source": [
    "data = pd.read_csv('./adult_with_pii.csv')\n",
    "encoder = ce.OrdinalEncoder(cols=['Target'], return_df=True, mapping=[{'col':'Target',\n",
    "                                                                       'mapping':{'<=50K':0, '>50K':1}}])\n",
    "data = encoder.fit_transform(data)\n",
    "data.dropna(axis=0, how='any', inplace=True)"
   ]
  },
  {
   "cell_type": "code",
   "execution_count": 4,
   "metadata": {},
   "outputs": [],
   "source": [
    "data = data[['Workclass', 'Education', 'Marital Status', 'Occupation', 'Relationship', 'Race', 'Sex', 'Country', 'Target']]\n",
    "key = data[['Workclass', 'Education', 'Marital Status', 'Occupation', 'Relationship', 'Race', 'Sex', 'Country']]\n",
    "income= data[['Target']]"
   ]
  },
  {
   "cell_type": "code",
   "execution_count": 5,
   "metadata": {},
   "outputs": [
    {
     "data": {
      "text/html": [
       "<div>\n",
       "<style scoped>\n",
       "    .dataframe tbody tr th:only-of-type {\n",
       "        vertical-align: middle;\n",
       "    }\n",
       "\n",
       "    .dataframe tbody tr th {\n",
       "        vertical-align: top;\n",
       "    }\n",
       "\n",
       "    .dataframe thead th {\n",
       "        text-align: right;\n",
       "    }\n",
       "</style>\n",
       "<table border=\"1\" class=\"dataframe\">\n",
       "  <thead>\n",
       "    <tr style=\"text-align: right;\">\n",
       "      <th></th>\n",
       "      <th>Workclass</th>\n",
       "      <th>Education</th>\n",
       "      <th>Marital Status</th>\n",
       "      <th>Occupation</th>\n",
       "      <th>Relationship</th>\n",
       "      <th>Race</th>\n",
       "      <th>Sex</th>\n",
       "      <th>Country</th>\n",
       "      <th>Target</th>\n",
       "    </tr>\n",
       "  </thead>\n",
       "  <tbody>\n",
       "    <tr>\n",
       "      <th>0</th>\n",
       "      <td>State-gov</td>\n",
       "      <td>Bachelors</td>\n",
       "      <td>Never-married</td>\n",
       "      <td>Adm-clerical</td>\n",
       "      <td>Not-in-family</td>\n",
       "      <td>White</td>\n",
       "      <td>Male</td>\n",
       "      <td>United-States</td>\n",
       "      <td>0</td>\n",
       "    </tr>\n",
       "    <tr>\n",
       "      <th>1</th>\n",
       "      <td>Self-emp-not-inc</td>\n",
       "      <td>Bachelors</td>\n",
       "      <td>Married-civ-spouse</td>\n",
       "      <td>Exec-managerial</td>\n",
       "      <td>Husband</td>\n",
       "      <td>White</td>\n",
       "      <td>Male</td>\n",
       "      <td>United-States</td>\n",
       "      <td>0</td>\n",
       "    </tr>\n",
       "    <tr>\n",
       "      <th>2</th>\n",
       "      <td>Private</td>\n",
       "      <td>HS-grad</td>\n",
       "      <td>Divorced</td>\n",
       "      <td>Handlers-cleaners</td>\n",
       "      <td>Not-in-family</td>\n",
       "      <td>White</td>\n",
       "      <td>Male</td>\n",
       "      <td>United-States</td>\n",
       "      <td>0</td>\n",
       "    </tr>\n",
       "    <tr>\n",
       "      <th>5</th>\n",
       "      <td>Private</td>\n",
       "      <td>Masters</td>\n",
       "      <td>Married-civ-spouse</td>\n",
       "      <td>Exec-managerial</td>\n",
       "      <td>Wife</td>\n",
       "      <td>White</td>\n",
       "      <td>Female</td>\n",
       "      <td>United-States</td>\n",
       "      <td>0</td>\n",
       "    </tr>\n",
       "    <tr>\n",
       "      <th>7</th>\n",
       "      <td>Self-emp-not-inc</td>\n",
       "      <td>HS-grad</td>\n",
       "      <td>Married-civ-spouse</td>\n",
       "      <td>Exec-managerial</td>\n",
       "      <td>Husband</td>\n",
       "      <td>White</td>\n",
       "      <td>Male</td>\n",
       "      <td>United-States</td>\n",
       "      <td>1</td>\n",
       "    </tr>\n",
       "    <tr>\n",
       "      <th>...</th>\n",
       "      <td>...</td>\n",
       "      <td>...</td>\n",
       "      <td>...</td>\n",
       "      <td>...</td>\n",
       "      <td>...</td>\n",
       "      <td>...</td>\n",
       "      <td>...</td>\n",
       "      <td>...</td>\n",
       "      <td>...</td>\n",
       "    </tr>\n",
       "    <tr>\n",
       "      <th>32556</th>\n",
       "      <td>Private</td>\n",
       "      <td>Assoc-acdm</td>\n",
       "      <td>Married-civ-spouse</td>\n",
       "      <td>Tech-support</td>\n",
       "      <td>Wife</td>\n",
       "      <td>White</td>\n",
       "      <td>Female</td>\n",
       "      <td>United-States</td>\n",
       "      <td>0</td>\n",
       "    </tr>\n",
       "    <tr>\n",
       "      <th>32557</th>\n",
       "      <td>Private</td>\n",
       "      <td>HS-grad</td>\n",
       "      <td>Married-civ-spouse</td>\n",
       "      <td>Machine-op-inspct</td>\n",
       "      <td>Husband</td>\n",
       "      <td>White</td>\n",
       "      <td>Male</td>\n",
       "      <td>United-States</td>\n",
       "      <td>1</td>\n",
       "    </tr>\n",
       "    <tr>\n",
       "      <th>32558</th>\n",
       "      <td>Private</td>\n",
       "      <td>HS-grad</td>\n",
       "      <td>Widowed</td>\n",
       "      <td>Adm-clerical</td>\n",
       "      <td>Unmarried</td>\n",
       "      <td>White</td>\n",
       "      <td>Female</td>\n",
       "      <td>United-States</td>\n",
       "      <td>0</td>\n",
       "    </tr>\n",
       "    <tr>\n",
       "      <th>32559</th>\n",
       "      <td>Private</td>\n",
       "      <td>HS-grad</td>\n",
       "      <td>Never-married</td>\n",
       "      <td>Adm-clerical</td>\n",
       "      <td>Own-child</td>\n",
       "      <td>White</td>\n",
       "      <td>Male</td>\n",
       "      <td>United-States</td>\n",
       "      <td>0</td>\n",
       "    </tr>\n",
       "    <tr>\n",
       "      <th>32560</th>\n",
       "      <td>Self-emp-inc</td>\n",
       "      <td>HS-grad</td>\n",
       "      <td>Married-civ-spouse</td>\n",
       "      <td>Exec-managerial</td>\n",
       "      <td>Wife</td>\n",
       "      <td>White</td>\n",
       "      <td>Female</td>\n",
       "      <td>United-States</td>\n",
       "      <td>1</td>\n",
       "    </tr>\n",
       "  </tbody>\n",
       "</table>\n",
       "<p>24285 rows × 9 columns</p>\n",
       "</div>"
      ],
      "text/plain": [
       "              Workclass   Education      Marital Status         Occupation  \\\n",
       "0             State-gov   Bachelors       Never-married       Adm-clerical   \n",
       "1      Self-emp-not-inc   Bachelors  Married-civ-spouse    Exec-managerial   \n",
       "2               Private     HS-grad            Divorced  Handlers-cleaners   \n",
       "5               Private     Masters  Married-civ-spouse    Exec-managerial   \n",
       "7      Self-emp-not-inc     HS-grad  Married-civ-spouse    Exec-managerial   \n",
       "...                 ...         ...                 ...                ...   \n",
       "32556           Private  Assoc-acdm  Married-civ-spouse       Tech-support   \n",
       "32557           Private     HS-grad  Married-civ-spouse  Machine-op-inspct   \n",
       "32558           Private     HS-grad             Widowed       Adm-clerical   \n",
       "32559           Private     HS-grad       Never-married       Adm-clerical   \n",
       "32560      Self-emp-inc     HS-grad  Married-civ-spouse    Exec-managerial   \n",
       "\n",
       "        Relationship   Race     Sex        Country  Target  \n",
       "0      Not-in-family  White    Male  United-States       0  \n",
       "1            Husband  White    Male  United-States       0  \n",
       "2      Not-in-family  White    Male  United-States       0  \n",
       "5               Wife  White  Female  United-States       0  \n",
       "7            Husband  White    Male  United-States       1  \n",
       "...              ...    ...     ...            ...     ...  \n",
       "32556           Wife  White  Female  United-States       0  \n",
       "32557        Husband  White    Male  United-States       1  \n",
       "32558      Unmarried  White  Female  United-States       0  \n",
       "32559      Own-child  White    Male  United-States       0  \n",
       "32560           Wife  White  Female  United-States       1  \n",
       "\n",
       "[24285 rows x 9 columns]"
      ]
     },
     "execution_count": 5,
     "metadata": {},
     "output_type": "execute_result"
    }
   ],
   "source": [
    "# Check for duplicates based on categorical columns\n",
    "data[data.duplicated(keep=False)]"
   ]
  },
  {
   "cell_type": "markdown",
   "metadata": {},
   "source": [
    "Step one: Calculating the risk ceiling. "
   ]
  },
  {
   "cell_type": "code",
   "execution_count": 58,
   "metadata": {},
   "outputs": [],
   "source": [
    "# Create an empty list to store the residuals\n",
    "residuals = []\n",
    "\n",
    "for index, row in data.iterrows():\n",
    "    # Filter data to find all matching rows\n",
    "    match = data[(data['Workclass'] == row['Workclass']) &\n",
    "                (data['Education'] == row['Education']) &\n",
    "                (data['Marital Status'] == row['Marital Status']) &\n",
    "                (data['Occupation'] == row['Occupation']) &\n",
    "                (data['Relationship'] == row['Relationship']) &\n",
    "                (data['Race'] == row['Race']) &\n",
    "                (data['Sex'] == row['Sex']) &\n",
    "                (data['Country'] == row['Country'])]\n",
    "\n",
    "    # Calculate the mean salary of the matching rows\n",
    "    mean_salary = match['Target'].mean()\n",
    "\n",
    "    # Calculate the residual\n",
    "    residual = abs(row['Target'] - mean_salary)\n",
    "    residuals.append(residual)\n",
    "\n",
    "# Calculating the risk ceiling\n",
    "RC = sum(residuals) / len(residuals)"
   ]
  },
  {
   "cell_type": "code",
   "execution_count": 19,
   "metadata": {},
   "outputs": [
    {
     "data": {
      "text/plain": [
       "0.18552419666058004"
      ]
     },
     "execution_count": 19,
     "metadata": {},
     "output_type": "execute_result"
    }
   ],
   "source": [
    "RC"
   ]
  },
  {
   "cell_type": "markdown",
   "metadata": {},
   "source": [
    "Step two: Calculating the risk floor."
   ]
  },
  {
   "cell_type": "code",
   "execution_count": 131,
   "metadata": {},
   "outputs": [],
   "source": [
    "residuals = []\n",
    "\n",
    "# Calculate the overall mean\n",
    "overal_mean = data['Target'].mean()\n",
    "\n",
    "for index, row in data.iterrows():\n",
    "    residual = abs(row['Target'] - overal_mean)\n",
    "    residuals.append(residual)\n",
    "\n",
    "RF = sum(residuals) / len(residuals)"
   ]
  },
  {
   "cell_type": "code",
   "execution_count": 18,
   "metadata": {},
   "outputs": [
    {
     "data": {
      "text/plain": [
       "0.37392016317027593"
      ]
     },
     "execution_count": 18,
     "metadata": {},
     "output_type": "execute_result"
    }
   ],
   "source": [
    "RF"
   ]
  },
  {
   "cell_type": "markdown",
   "metadata": {},
   "source": [
    "Step three: Calculating the risk of the treated data."
   ]
  },
  {
   "cell_type": "code",
   "execution_count": 16,
   "metadata": {},
   "outputs": [],
   "source": [
    "# Scoring function to calculate the score for each unique value in a column.\n",
    "# Returns 1 if the value is equal to the original value, otherwise returns 0.\n",
    "def scoring_function(value, original_value):\n",
    "    return 1 if value == original_value else 0\n",
    "\n",
    "# Exponential mechanism function that takes data, original_value, privacy parameter epsilon, and sensitivity.\n",
    "# It calculates the scores for each value in the data using the scoring function, and then calculates the probabilities.\n",
    "# Finally, it returns a treated value based on the probabilities.\n",
    "def exponential_mechanism(data, original_value, epsilon, sensitivity):\n",
    "    scores = np.array([scoring_function(value, original_value) for value in data])\n",
    "    probabilities = np.exp(epsilon * scores / (2 * sensitivity))\n",
    "    probabilities /= probabilities.sum()\n",
    "    return np.random.choice(data, p=probabilities)\n",
    "\n",
    "# Main function to generate treated data using the exponential mechanism.\n",
    "# This function iterates through each column and row in the DataFrame,\n",
    "# applies the exponential mechanism, and updates the treated_data DataFrame with the treated values.\n",
    "def generate_treated_data(df, epsilon):\n",
    "    treated_data = df.copy()\n",
    "    df = df.reset_index(drop=True)  # Reset the index of the original DataFrame\n",
    "    treated_data = treated_data.reset_index(drop=True)  # Reset the index of the treated DataFrame\n",
    "\n",
    "    # Iterate through each column in the DataFrame\n",
    "    for col in df.columns.astype(str):\n",
    "        unique_values = df[col].unique()  # Get unique values in the column\n",
    "        sensitivity = len(unique_values) - 1  # Calculate the sensitivity for the column\n",
    "\n",
    "        # Iterate through each row in the DataFrame\n",
    "        for i in range(len(df)):\n",
    "            original_value = df.at[i, col]  # Get the original value in the cell\n",
    "            # Update the treated_data DataFrame with the treated value using the exponential mechanism\n",
    "            treated_data.at[i, col] = exponential_mechanism(unique_values, original_value, epsilon, sensitivity)\n",
    "\n",
    "    return treated_data"
   ]
  },
  {
   "cell_type": "code",
   "execution_count": 17,
   "metadata": {},
   "outputs": [],
   "source": [
    "def treated_data_risk(data, treated_data):\n",
    "    # Assume treated_df is the treated dataset and orig_df is the original dataset\n",
    "\n",
    "    # Calculate the overall mean income of the original dataset\n",
    "    overall_mean_income = data['Target'].mean()\n",
    "\n",
    "    # Create a dictionary to store the predicted income values for each record in the treated dataset\n",
    "    predicted_income = {}\n",
    "\n",
    "    # Match each record in the treated dataset with the original dataset using all categorical variables\n",
    "    for i, row in treated_data.iterrows():\n",
    "        match_rows = data[(data['Workclass'] == row['Workclass']) & \n",
    "                        (data['Education'] == row['Education']) & \n",
    "                        (data['Marital Status'] == row['Marital Status']) &\n",
    "                        (data['Occupation'] == row['Occupation']) &\n",
    "                        (data['Relationship'] == row['Relationship']) &\n",
    "                        (data['Race'] == row['Race']) &\n",
    "                        (data['Sex'] == row['Sex']) &\n",
    "                        (data['Country'] == row['Country'])]\n",
    "        \n",
    "        # If there are no matches, impute the overall mean as the predicted value\n",
    "        if len(match_rows) == 0:\n",
    "            predicted_income[i] = overall_mean_income\n",
    "        else:\n",
    "            # Calculate the mean income of the matching rows\n",
    "            predicted_income[i] = match_rows['Target'].mean()\n",
    "\n",
    "    residuals = []\n",
    "    for i, row in treated_data.iterrows():\n",
    "        residual = abs(predicted_income[i] - row['Target'])\n",
    "        residuals.append(residual)\n",
    "\n",
    "    RT = sum(residuals) / len(residuals)\n",
    "    return RT"
   ]
  },
  {
   "cell_type": "code",
   "execution_count": 32,
   "metadata": {},
   "outputs": [],
   "source": [
    "def ROC_utility(data, treated_data):\n",
    "    var_rocs =[]\n",
    "\n",
    "    for column in ['Workclass', 'Education', 'Marital Status', 'Occupation', 'Relationship', 'Race', 'Sex', 'Country']:\n",
    "        # calculate frequency table\n",
    "        orig_counts = data[column].value_counts()\n",
    "        synth_counts = treated_data[column].value_counts()\n",
    "        \n",
    "        roc_df = pd.DataFrame({'yorig': orig_counts, 'ysynth': synth_counts}).fillna(0)\n",
    "\n",
    "        # calculate ROC for each category\n",
    "        roc_df['ROC'] = np.minimum(roc_df['yorig'], roc_df['ysynth']) / np.maximum(roc_df['yorig'], roc_df['ysynth'])\n",
    "        \n",
    "        # calculate the average ROC for the variable\n",
    "        var_roc = roc_df['ROC'].mean()\n",
    "        var_rocs.append(var_roc)\n",
    "        #print(f\"{column}: {var_roc}\")\n",
    "        # print(roc_df)\n",
    "\n",
    "    return sum(var_rocs)/len(var_rocs)"
   ]
  },
  {
   "cell_type": "code",
   "execution_count": 33,
   "metadata": {},
   "outputs": [
    {
     "name": "stdout",
     "output_type": "stream",
     "text": [
      "Workclass: 0.28999439599023885\n",
      "Education: 0.3368451836486779\n",
      "Marital Status: 0.3202313080634021\n",
      "Occupation: 0.4989601836891227\n",
      "Relationship: 0.5052934768837181\n",
      "Race: 0.18732254803795453\n",
      "Sex: 0.6848407083826963\n",
      "Country: 0.08912627137795742\n",
      "Workclass: 0.2882639789216262\n",
      "Education: 0.34259204834669343\n",
      "Marital Status: 0.3189242824191335\n",
      "Occupation: 0.5001139431968299\n",
      "Relationship: 0.5074038581652897\n",
      "Race: 0.18520007250191942\n",
      "Sex: 0.7074558121996435\n",
      "Country: 0.08908478193285874\n",
      "Workclass: 0.2891611116718066\n",
      "Education: 0.338397307982909\n",
      "Marital Status: 0.3235389776642958\n",
      "Occupation: 0.5011536736383613\n",
      "Relationship: 0.5099117457614423\n",
      "Race: 0.1924021137479445\n",
      "Sex: 0.7553914558147887\n",
      "Country: 0.08894811326750843\n",
      "Workclass: 0.3084352330751457\n",
      "Education: 0.34172485174775136\n",
      "Marital Status: 0.33385793183571444\n",
      "Occupation: 0.504211989405501\n",
      "Relationship: 0.5363222033696273\n",
      "Race: 0.2237733710497393\n",
      "Sex: 0.9459938345756491\n",
      "Country: 0.08960350978530598\n",
      "Workclass: 0.33503547363710007\n",
      "Education: 0.3458806956043854\n",
      "Marital Status: 0.3573438224896305\n",
      "Occupation: 0.5078646741349908\n",
      "Relationship: 0.5727458738793391\n",
      "Race: 0.27908014122196556\n",
      "Sex: 0.9937568982042659\n",
      "Country: 0.08868354033413844\n",
      "Workclass: 0.36765855903668937\n",
      "Education: 0.34664579514455796\n",
      "Marital Status: 0.3850613040189606\n",
      "Occupation: 0.5108163528989407\n",
      "Relationship: 0.6076938929001506\n",
      "Race: 0.34572700677390084\n",
      "Sex: 0.999924353055483\n",
      "Country: 0.08898084656273635\n",
      "Workclass: 0.40970734274806775\n",
      "Education: 0.3523222976787627\n",
      "Marital Status: 0.41888769291649836\n",
      "Occupation: 0.5224926742074916\n",
      "Relationship: 0.668303271366355\n",
      "Race: 0.42281737395852625\n",
      "Sex: 1.0\n",
      "Country: 0.0897238652697224\n",
      "Workclass: 0.4592779159511759\n",
      "Education: 0.36067764666509927\n",
      "Marital Status: 0.4560261124530072\n",
      "Occupation: 0.5277889963296774\n",
      "Relationship: 0.7243146673191755\n",
      "Race: 0.5138920028260209\n",
      "Sex: 1.0\n",
      "Country: 0.09097400422968836\n"
     ]
    }
   ],
   "source": [
    "epsilons = [0.01, 0.1, 1, 5, 10, 15,20,25]\n",
    "RTs = []\n",
    "thetas = []\n",
    "\n",
    "ROCs = []\n",
    "\n",
    "for epsilon in epsilons:\n",
    "    treated_data = generate_treated_data(data, epsilon)\n",
    "    RT = treated_data_risk(data, treated_data)\n",
    "    RTs.append(RT)\n",
    "\n",
    "    # theta = (RT - RF) / (RC - RF)\n",
    "    theta = (RT - RC) / (RF - RC)\n",
    "    thetas.append(theta)\n",
    "\n",
    "    ROC = ROC_utility(data, treated_data)\n",
    "    ROCs.append(ROC)"
   ]
  },
  {
   "cell_type": "code",
   "execution_count": 34,
   "metadata": {},
   "outputs": [
    {
     "name": "stdout",
     "output_type": "stream",
     "text": [
      "[0.49979167817262415, 0.49428099205211395, 0.47103299695931883, 0.392371633422929, 0.3754144503595453, 0.3740851886666802, 0.3734608932523039, 0.37344886665888527]\n",
      "[1.66812213304933, 1.6388715804891905, 1.5154719370493792, 1.0979398370065607, 1.0079316304746495, 1.0008759502629574, 0.9975622093907813, 0.997498372602545]\n",
      "[0.36407675950922097, 0.3673798472104993, 0.3748630624436321, 0.41049036560555424, 0.435048889938227, 0.4565635137989274, 0.48553181476817797, 0.5166189182217306]\n"
     ]
    }
   ],
   "source": [
    "print(\"RT:\", RTs)\n",
    "print(\"theta:\", thetas)\n",
    "print(\"Utility:\", ROCs)"
   ]
  },
  {
   "attachments": {},
   "cell_type": "markdown",
   "metadata": {},
   "source": [
    "epsilons = [0.01, 0.1, 1, 5, 10, 15,20,25]\n",
    "thetas = [1.66812213304933, 1.6388715804891905, 1.5154719370493792, 1.0979398370065607, 1.0079316304746495, 1.0008759502629574, 0.9975622093907813, 0.997498372602545]\n",
    "ROCs = [0.36407675950922097, 0.3673798472104993, 0.3748630624436321, 0.41049036560555424, 0.435048889938227, 0.4565635137989274, 0.48553181476817797, 0.5166189182217306]"
   ]
  },
  {
   "cell_type": "code",
   "execution_count": 9,
   "metadata": {},
   "outputs": [],
   "source": [
    "# epsilons = [0.01, 0.1, 1, 5, 10, 15,20,25]\n",
    "# thetas = [1.66812213304933, 1.6388715804891905, 1.5154719370493792, 1.0979398370065607, 1.0079316304746495, 1.0008759502629574, 0.9975622093907813, 0.997498372602545]\n",
    "# ROCs = [0.36407675950922097, 0.3673798472104993, 0.3748630624436321, 0.41049036560555424, 0.435048889938227, 0.4565635137989274, 0.48553181476817797, 0.5166189182217306]"
   ]
  },
  {
   "cell_type": "code",
   "execution_count": 11,
   "metadata": {},
   "outputs": [
    {
     "data": {
      "image/png": "[encoded data removed]",
      "text/plain": [
       "<Figure size 432x288 with 1 Axes>"
      ]
     },
     "metadata": {
      "needs_background": "light"
     },
     "output_type": "display_data"
    }
   ],
   "source": [
    "import matplotlib.pyplot as plt\n",
    "\n",
    "# Plot scatter plot\n",
    "plt.scatter(thetas, ROCs)\n",
    "\n",
    "\n",
    "# Add epsilon values on each point\n",
    "for i, txt in enumerate(epsilons):\n",
    "    plt.annotate(\"epsilon=\" + str(txt), (thetas[i], ROCs[i]))\n",
    "\n",
    "\n",
    "# Set plot title and axis labels\n",
    "plt.title(\"Utility vs. Risk with Epsilon Values\")\n",
    "plt.xlabel(\"Risk\")\n",
    "plt.ylabel(\"Utility\")\n",
    "\n",
    "# Display plot\n",
    "plt.show()\n"
   ]
  },
  {
   "cell_type": "code",
   "execution_count": 12,
   "metadata": {},
   "outputs": [
    {
     "data": {
      "image/png": "[encoded data removed]",
      "text/plain": [
       "<Figure size 432x288 with 1 Axes>"
      ]
     },
     "metadata": {
      "needs_background": "light"
     },
     "output_type": "display_data"
    }
   ],
   "source": [
    "import numpy as np\n",
    "import matplotlib.pyplot as plt\n",
    "\n",
    "# Generate some sample data\n",
    "thetas = np.array(thetas)\n",
    "ROCs = np.array(ROCs)\n",
    "epsilons = np.array(epsilons)\n",
    "\n",
    "# Fit a polynomial curve to the data\n",
    "curve_fit = np.polyfit(thetas, ROCs, deg=3)\n",
    "curve = np.poly1d(curve_fit)\n",
    "\n",
    "# Create a smooth line using the curve function\n",
    "x = np.linspace(thetas.min()-0.03, thetas.max(), 100)\n",
    "y = curve(x)\n",
    "\n",
    "# Plot the smooth line and scatter plot\n",
    "plt.plot(x, y, '-')\n",
    "plt.scatter(thetas, ROCs)\n",
    "\n",
    "# Add epsilon values on each point\n",
    "for i, txt in enumerate(epsilons):\n",
    "    plt.annotate(\"epsilon=\" + str(txt), (thetas[i], ROCs[i]))\n",
    "\n",
    "# Set plot title and axis labels\n",
    "plt.title(\"Utility vs. Risk with Epsilon Values\")\n",
    "plt.xlabel(\"Risk\")\n",
    "plt.ylabel(\"Utility\")\n",
    "\n",
    "# Display plot\n",
    "plt.show()\n"
   ]
  }
 ],
 "metadata": {
  "kernelspec": {
   "display_name": "Python 3 (ipykernel)",
   "language": "python",
   "name": "python3"
  },
  "language_info": {
   "codemirror_mode": {
    "name": "ipython",
    "version": 3
   },
   "file_extension": ".py",
   "mimetype": "text/x-python",
   "name": "python",
   "nbconvert_exporter": "python",
   "pygments_lexer": "ipython3",
   "version": "3.10.11"
  }
 },
 "nbformat": 4,
 "nbformat_minor": 2
}
